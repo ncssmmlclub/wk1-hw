{
 "cells": [
  {
   "cell_type": "markdown",
   "source": [
    "# 1. Functions/Input"
   ],
   "metadata": {}
  },
  {
   "cell_type": "code",
   "execution_count": null,
   "source": [
    "# take user input\n",
    "input_1 = \n",
    "\n",
    "input_2 =\n",
    "# define the function\n",
    "def contains(s1, s2):\n",
    "\n",
    "\n",
    "    return # some boolean\n",
    "\n",
    "print(contains(input_1, input_2))"
   ],
   "outputs": [],
   "metadata": {}
  },
  {
   "cell_type": "markdown",
   "source": [
    "# 2. NumPy/Pandas"
   ],
   "metadata": {}
  },
  {
   "cell_type": "code",
   "execution_count": null,
   "source": [
    "import numpy as np\n",
    "import pandas as pd"
   ],
   "outputs": [],
   "metadata": {}
  },
  {
   "cell_type": "markdown",
   "source": [
    "# 3. OOP"
   ],
   "metadata": {}
  },
  {
   "cell_type": "code",
   "execution_count": null,
   "source": [
    "class Lipsum:\n",
    "    "
   ],
   "outputs": [],
   "metadata": {}
  }
 ],
 "metadata": {
  "orig_nbformat": 4,
  "language_info": {
   "name": "python"
  }
 },
 "nbformat": 4,
 "nbformat_minor": 2
}
