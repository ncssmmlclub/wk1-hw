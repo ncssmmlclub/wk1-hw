{
 "cells": [
  {
   "cell_type": "markdown",
   "source": [
    "# 1. Functions/Input"
   ],
   "metadata": {}
  },
  {
   "cell_type": "code",
   "execution_count": null,
   "source": [
    "# take user input\n",
    "input_1 = input(\"String 1 here: \") \n",
    "\n",
    "input_2 = input(\"String 2 here: \")\n",
    "# define the function\n",
    "def contains(s1, s2):\n",
    "    if s2 in s1:\n",
    "        return True\n",
    "    return False\n",
    "\n",
    "    return # some boolean\n",
    "\n",
    "print(contains(input_1, input_2))"
   ],
   "outputs": [],
   "metadata": {}
  },
  {
   "cell_type": "markdown",
   "source": [
    "# 2. NumPy/Pandas"
   ],
   "metadata": {}
  },
  {
   "cell_type": "code",
   "execution_count": 20,
   "source": [
    "import numpy as np\n",
    "import pandas as pd\n",
    "\n",
    "df = pd.DataFrame({\n",
    "    \"A\": np.linspace(1,10,10),\n",
    "    \"B\": np.linspace(10,1,10),\n",
    "    \"C\": 7*np.ones(10),\n",
    "    \"D\": np.random.randint(1,11,size=10),\n",
    "    \"E\": np.random.randint(1,11,size=10),\n",
    "    \"F\": np.random.randint(1,11,size=10)\n",
    "})\n",
    "print(df)\n",
    "# numpy\n",
    "arr = np.random.randn(2, 4)\n",
    "print(arr)\n",
    "arr = arr.T\n",
    "print(arr)\n",
    "print(arr[1:3, :, np.newaxis])\n",
    "print(arr[:, 0])\n",
    "print(arr[..., 0])"
   ],
   "outputs": [
    {
     "output_type": "stream",
     "name": "stdout",
     "text": [
      "      A     B    C   D  E  F\n",
      "0   1.0  10.0  7.0   9  8  7\n",
      "1   2.0   9.0  7.0   3  8  9\n",
      "2   3.0   8.0  7.0   4  1  5\n",
      "3   4.0   7.0  7.0   1  6  5\n",
      "4   5.0   6.0  7.0   7  1  1\n",
      "5   6.0   5.0  7.0  10  9  5\n",
      "6   7.0   4.0  7.0   5  7  2\n",
      "7   8.0   3.0  7.0   3  1  9\n",
      "8   9.0   2.0  7.0  10  9  3\n",
      "9  10.0   1.0  7.0   4  3  8\n",
      "[[-0.45473247 -0.41457742 -0.36984347  0.53744499]\n",
      " [-1.9124696  -0.17332396  1.30797093 -1.11961264]]\n",
      "[[-0.45473247 -1.9124696 ]\n",
      " [-0.41457742 -0.17332396]\n",
      " [-0.36984347  1.30797093]\n",
      " [ 0.53744499 -1.11961264]]\n",
      "[[[-0.41457742]\n",
      "  [-0.17332396]]\n",
      "\n",
      " [[-0.36984347]\n",
      "  [ 1.30797093]]]\n",
      "[-0.45473247 -0.41457742 -0.36984347  0.53744499]\n",
      "[-0.45473247 -0.41457742 -0.36984347  0.53744499]\n"
     ]
    }
   ],
   "metadata": {}
  },
  {
   "cell_type": "markdown",
   "source": [
    "# 3. OOP"
   ],
   "metadata": {}
  },
  {
   "cell_type": "code",
   "execution_count": 8,
   "source": [
    "\n",
    "class Lipsum:\n",
    "    def __init__(self):\n",
    "      f = open(\"lipsum.txt\")\n",
    "      self.data = f.read()\n",
    "      f.close()\n",
    "    def word_count(self):\n",
    "        return [(x, len(x.split(\" \"))) for x in self.data.split(\". \")]\n",
    "    def first_position(self, tups):\n",
    "        return [ { c : x[0].count(c) for c in set(x[0].translate({ord(\",\"): None, ord(\" \"): None})) } for x in tups]\n",
    "\n",
    "\n",
    "thing = Lipsum()\n",
    "print(thing.word_count())\n",
    "print(thing.first_position(thing.word_count()))"
   ],
   "outputs": [
    {
     "output_type": "stream",
     "name": "stdout",
     "text": [
      "[('Lorem ipsum dolor sit amet, consectetur adipiscing elit', 8), ('Vestibulum non diam nulla', 4), ('Vivamus ac mi tempus, iaculis lacus sit amet, aliquet tellus', 10), ('Praesent eleifend laoreet sem non sagittis', 6), ('Pellentesque egestas odio sit amet gravida fermentum', 7), ('Mauris facilisis et lorem non luctus', 6), ('Donec consectetur rhoncus diam', 4), ('Donec gravida enim quis vulputate tincidunt', 6), ('Suspendisse mauris orci, efficitur nec euismod ut, porttitor a velit', 10), ('Fusce et sapien quis metus blandit malesuada non eget nisi', 10), ('Nunc est felis, malesuada at odio sit amet, ultrices molestie sem', 11), ('Curabitur porttitor quam porttitor libero vulputate blandit', 7), ('Nulla maximus interdum lobortis', 4), ('Maecenas et felis fermentum, mollis odio congue, efficitur lorem', 9), ('In vel tellus ultrices, feugiat ex quis, elementum felis', 9), ('Aliquam volutpat hendrerit orci, eget euismod massa tempus sit amet', 10), ('Mauris urna tellus, accumsan non aliquet non, sagittis in nulla', 10), ('Etiam non arcu id velit maximus finibus', 7), ('Aenean cursus elit a dignissim ornare', 6), ('Aenean mollis massa mollis fringilla viverra', 6), ('Nunc eget nisi nec turpis porta aliquam at in mauris', 10), ('Maecenas maximus tristique leo, ut auctor felis dignissim fringilla', 9), ('Phasellus facilisis quam vel ultricies viverra', 6), ('Nunc condimentum interdum lorem, ac bibendum nisl semper id', 9), ('Aliquam ligula mauris, consequat non sodales id, lacinia at augue', 10), ('Vivamus vehicula dui at lorem scelerisque, ac cursus elit consequat', 10), ('Proin tincidunt justo in lacinia tincidunt', 6), ('Suspendisse non laoreet magna, ut semper tellus', 7), ('Suspendisse potenti', 2), ('Sed semper, sem ut vulputate eleifend, nibh elit bibendum neque, non semper nisi erat et augue', 16), ('Duis nunc mi, eleifend eu interdum dictum, tempor sit amet est', 11), ('Vestibulum suscipit molestie eros', 4), ('Curabitur consequat posuere quam vitae posuere', 6), ('Morbi congue sed leo nec elementum', 6), ('Suspendisse feugiat sem arcu, vitae gravida risus maximus eu', 9), ('Mauris volutpat urna ex, ut lacinia mi commodo ut', 9), ('Curabitur tincidunt sodales ullamcorper', 4), ('Sed a nisl enim', 4), ('Etiam quis ex suscipit, congue risus ut, consequat purus', 9), ('Quisque condimentum nibh dui, et accumsan sapien lobortis vel', 9), ('Curabitur et justo mauris', 4), ('Aenean id erat sed purus scelerisque lobortis vitae vel erat', 10), ('Fusce vestibulum accumsan magna, eu mattis ante vulputate at', 9), ('Integer egestas sem orci, sit amet convallis metus gravida quis', 10), ('Nam fringilla porttitor purus ac placerat.', 6)]\n",
      "[{'r': 3, 'n': 2, 't': 5, 'a': 2, 'g': 1, 'p': 2, 'i': 6, 's': 4, 'L': 1, 'c': 3, 'd': 2, 'l': 2, 'm': 3, 'e': 5, 'u': 2, 'o': 4}, {'n': 3, 't': 1, 'a': 2, 'b': 1, 'V': 1, 'i': 2, 's': 1, 'd': 1, 'l': 3, 'm': 2, 'e': 1, 'u': 3, 'o': 1}, {'t': 5, 'a': 6, 'p': 1, 'v': 1, 'V': 1, 'i': 6, 's': 6, 'c': 3, 'l': 5, 'm': 4, 'e': 4, 'q': 1, 'u': 6}, {'r': 2, 'P': 1, 'n': 4, 'a': 3, 't': 4, 'f': 1, 'i': 3, 's': 4, 'd': 1, 'l': 2, 'm': 1, 'e': 8, 'g': 1, 'o': 2}, {'r': 2, 'n': 2, 'P': 1, 't': 5, 'g': 2, 'a': 4, 'v': 1, 'f': 1, 'i': 3, 's': 4, 'd': 2, 'l': 2, 'm': 3, 'e': 9, 'q': 1, 'u': 2, 'o': 2}, {'r': 2, 'n': 2, 't': 2, 'a': 2, 'f': 1, 'i': 4, 's': 4, 'c': 2, 'l': 3, 'm': 1, 'e': 2, 'u': 3, 'M': 1, 'o': 2}, {'r': 2, 'n': 3, 't': 2, 'h': 1, 'a': 1, 'D': 1, 'i': 1, 's': 2, 'c': 4, 'd': 1, 'm': 1, 'e': 3, 'u': 2, 'o': 3}, {'r': 1, 'n': 4, 't': 4, 'a': 3, 'D': 1, 'u': 4, 'v': 2, 'p': 1, 'i': 5, 's': 1, 'c': 2, 'd': 2, 'l': 1, 'm': 1, 'e': 3, 'q': 1, 'g': 1, 'o': 1}, {'r': 5, 'n': 2, 't': 6, 'a': 2, 'p': 2, 'f': 2, 'v': 1, 'i': 8, 's': 5, 'S': 1, 'd': 2, 'c': 3, 'l': 1, 'm': 2, 'e': 6, 'u': 5, 'o': 4}, {'F': 1, 't': 4, 'a': 5, 'n': 5, 'g': 1, 'p': 1, 'b': 1, 'i': 5, 's': 6, 'c': 1, 'd': 2, 'l': 2, 'm': 2, 'e': 7, 'q': 1, 'u': 4, 'o': 1}, {'r': 1, 'n': 1, 't': 6, 'a': 5, 'f': 1, 'i': 5, 's': 7, 'c': 2, 'd': 2, 'N': 1, 'l': 4, 'm': 4, 'e': 8, 'u': 3, 'o': 3}, {'r': 7, 'n': 1, 'C': 1, 'a': 4, 't': 10, 'b': 3, 'p': 3, 'v': 1, 'i': 5, 'd': 1, 'l': 3, 'm': 1, 'e': 2, 'q': 1, 'u': 5, 'o': 5}, {'r': 2, 'n': 1, 't': 2, 'a': 2, 'b': 1, 'x': 1, 'i': 3, 's': 2, 'd': 1, 'N': 1, 'l': 3, 'm': 3, 'e': 1, 'u': 3, 'o': 2}, {'r': 3, 'n': 3, 't': 3, 'a': 2, 'g': 1, 'f': 4, 'i': 5, 's': 3, 'c': 3, 'd': 1, 'l': 4, 'm': 4, 'e': 9, 'u': 3, 'M': 1, 'o': 5}, {'r': 1, 'n': 2, 't': 4, 'I': 1, 'g': 1, 'a': 1, 'v': 1, 'f': 2, 'i': 4, 's': 4, 'x': 1, 'c': 1, 'l': 6, 'm': 2, 'e': 9, 'q': 1, 'u': 5}, {'t': 7, 'v': 1, 'e': 7, 'g': 1, 'o': 3, 'A': 1, 'a': 5, 'p': 2, 'c': 1, 'q': 1, 'u': 4, 'h': 1, 'n': 1, 'i': 5, 's': 5, 'd': 2, 'l': 2, 'r': 3, 'm': 5}, {'r': 2, 'n': 8, 't': 4, 'a': 7, 'g': 1, 'i': 5, 's': 5, 'c': 2, 'l': 5, 'm': 1, 'e': 2, 'q': 1, 'u': 6, 'M': 1, 'o': 2}, {'r': 1, 'n': 3, 't': 2, 'a': 3, 'E': 1, 'b': 1, 'v': 1, 'x': 1, 'i': 6, 's': 2, 'f': 1, 'c': 1, 'd': 1, 'l': 1, 'm': 3, 'e': 1, 'u': 3, 'o': 1}, {'r': 3, 'n': 4, 'A': 1, 'a': 3, 't': 1, 'g': 1, 'i': 4, 's': 4, 'c': 1, 'd': 1, 'l': 1, 'm': 1, 'e': 4, 'u': 2, 'o': 1}, {'r': 3, 'n': 3, 'A': 1, 'a': 5, 'f': 1, 'v': 2, 'i': 5, 's': 4, 'l': 6, 'm': 3, 'e': 3, 'g': 1, 'o': 2}, {'r': 3, 'n': 4, 'g': 1, 't': 4, 'a': 5, 'p': 2, 'i': 6, 's': 3, 'c': 2, 'N': 1, 'l': 1, 'm': 2, 'e': 3, 'q': 1, 'u': 4, 'o': 1}, {'r': 3, 'n': 3, 't': 4, 'a': 5, 'g': 2, 'f': 2, 'x': 1, 'i': 9, 's': 6, 'c': 2, 'd': 1, 'l': 4, 'm': 3, 'e': 5, 'q': 1, 'u': 4, 'M': 1, 'o': 2}, {'r': 3, 'h': 1, 'P': 1, 'a': 4, 't': 1, 'f': 1, 'v': 3, 'i': 6, 's': 5, 'c': 2, 'l': 5, 'm': 1, 'e': 4, 'q': 1, 'u': 3}, {'r': 3, 'n': 6, 't': 2, 'a': 1, 'b': 2, 'p': 1, 'i': 5, 's': 2, 'c': 3, 'd': 4, 'N': 1, 'l': 2, 'm': 6, 'e': 6, 'u': 4, 'o': 2}, {'r': 1, 'A': 1, 'g': 2, 'a': 9, 'n': 4, 't': 2, 'i': 6, 's': 4, 'c': 2, 'd': 2, 'l': 5, 'm': 2, 'e': 3, 'q': 2, 'u': 6, 'o': 3}, {'r': 3, 'h': 1, 't': 3, 'a': 5, 'n': 1, 'v': 2, 'V': 1, 'i': 5, 's': 6, 'c': 5, 'd': 1, 'l': 4, 'm': 2, 'e': 7, 'q': 2, 'u': 7, 'o': 2}, {'r': 1, 'P': 1, 'n': 7, 't': 5, 'a': 2, 'j': 1, 'i': 8, 's': 1, 'c': 3, 'd': 2, 'l': 1, 'u': 3, 'o': 2}, {'r': 2, 'n': 4, 't': 3, 'a': 3, 'g': 1, 'p': 2, 'i': 1, 's': 5, 'S': 1, 'd': 1, 'l': 3, 'm': 2, 'e': 7, 'u': 3, 'o': 2}, {'n': 2, 't': 2, 'p': 2, 'i': 2, 's': 3, 'S': 1, 'd': 1, 'e': 3, 'u': 1, 'o': 1}, {'t': 6, 'v': 1, 'S': 1, 'e': 17, 'g': 1, 'o': 1, 'a': 3, 'p': 3, 'b': 3, 'f': 1, 'q': 1, 'u': 7, 'n': 7, 'h': 1, 'i': 6, 's': 4, 'd': 3, 'l': 3, 'r': 3, 'm': 4}, {'r': 2, 'n': 4, 't': 6, 'a': 1, 'D': 1, 'p': 1, 'f': 1, 'i': 6, 's': 3, 'c': 2, 'd': 3, 'l': 1, 'm': 5, 'e': 8, 'u': 5, 'o': 1}, {'r': 1, 't': 3, 'b': 1, 'p': 1, 'V': 1, 'i': 4, 's': 5, 'c': 1, 'l': 2, 'm': 2, 'e': 4, 'u': 3, 'o': 2}, {'r': 4, 'n': 1, 'C': 1, 'a': 4, 't': 3, 'b': 1, 'p': 2, 'v': 1, 'i': 2, 's': 3, 'c': 1, 'm': 1, 'e': 6, 'q': 2, 'u': 6, 'o': 3}, {'r': 1, 'n': 3, 't': 1, 'b': 1, 'i': 1, 's': 1, 'c': 2, 'd': 1, 'l': 2, 'm': 2, 'e': 7, 'u': 2, 'g': 1, 'M': 1, 'o': 3}, {'r': 3, 'n': 1, 'g': 2, 'a': 6, 't': 2, 'p': 1, 'f': 1, 'v': 2, 'i': 6, 's': 7, 'x': 1, 'S': 1, 'd': 2, 'c': 1, 'm': 3, 'e': 6, 'u': 6}, {'r': 2, 'n': 2, 't': 4, 'a': 5, 'p': 1, 'v': 1, 'x': 1, 'i': 4, 's': 1, 'c': 2, 'd': 1, 'l': 2, 'm': 3, 'e': 1, 'u': 5, 'M': 1, 'o': 4}, {'r': 4, 'n': 2, 'C': 1, 'a': 3, 't': 3, 'b': 1, 'p': 1, 'i': 3, 's': 2, 'c': 2, 'd': 2, 'l': 3, 'm': 1, 'e': 2, 'u': 4, 'o': 2}, {'n': 2, 'a': 1, 'i': 2, 's': 1, 'S': 1, 'd': 1, 'l': 1, 'm': 1, 'e': 2}, {'r': 2, 'n': 2, 't': 4, 'a': 2, 'g': 1, 'E': 1, 'p': 2, 'x': 1, 'i': 5, 's': 7, 'c': 3, 'm': 1, 'e': 3, 'q': 2, 'u': 8, 'o': 2}, {'t': 3, 'v': 1, 'e': 5, 'o': 3, 'a': 3, 'b': 2, 'p': 1, 'c': 3, 'q': 1, 'u': 5, 'n': 5, 'h': 1, 'i': 6, 's': 4, 'd': 2, 'l': 2, 'r': 1, 'Q': 1, 'm': 3}, {'r': 3, 'C': 1, 'a': 2, 't': 3, 'b': 1, 'j': 1, 'i': 2, 's': 2, 'm': 1, 'e': 1, 'u': 4, 'o': 1}, {'r': 5, 'n': 2, 'A': 1, 'a': 4, 't': 4, 'p': 1, 'b': 1, 'v': 2, 'i': 4, 's': 5, 'c': 1, 'd': 2, 'l': 3, 'e': 10, 'q': 1, 'u': 3, 'o': 2}, {'F': 1, 't': 7, 'a': 8, 'n': 3, 'g': 1, 'b': 1, 'p': 1, 'v': 2, 'i': 2, 's': 4, 'c': 3, 'l': 2, 'm': 4, 'e': 5, 'u': 7}, {'r': 3, 'n': 2, 't': 5, 'I': 1, 'a': 5, 'q': 1, 'v': 2, 'i': 5, 's': 7, 'c': 2, 'd': 1, 'l': 2, 'm': 3, 'e': 7, 'u': 2, 'g': 3, 'o': 2}, {'r': 5, 'n': 1, 't': 4, 'a': 5, '.': 1, 'p': 3, 'f': 1, 'i': 3, 's': 1, 'c': 2, 'N': 1, 'l': 3, 'm': 1, 'e': 1, 'u': 2, 'g': 1, 'o': 2}]\n"
     ]
    }
   ],
   "metadata": {}
  }
 ],
 "metadata": {
  "orig_nbformat": 4,
  "language_info": {
   "name": "python",
   "version": "3.9.7",
   "mimetype": "text/x-python",
   "codemirror_mode": {
    "name": "ipython",
    "version": 3
   },
   "pygments_lexer": "ipython3",
   "nbconvert_exporter": "python",
   "file_extension": ".py"
  },
  "kernelspec": {
   "name": "python3",
   "display_name": "Python 3.9.7 64-bit"
  },
  "interpreter": {
   "hash": "e7370f93d1d0cde622a1f8e1c04877d8463912d04d973331ad4851f04de6915a"
  }
 },
 "nbformat": 4,
 "nbformat_minor": 2
}